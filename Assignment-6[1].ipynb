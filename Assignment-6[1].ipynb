{
 "cells": [
  {
   "cell_type": "markdown",
   "metadata": {},
   "source": [
    "#### ORI 391Q-5 Fall 2018\n",
    "#### Rémy Pasco\n",
    "#### Dan Jacobellis"
   ]
  },
  {
   "cell_type": "markdown",
   "metadata": {},
   "source": [
    "#### ***Problem 1.*** *Bertsimas & Tsitsiklis, Exercise 3.20*\n",
    "*Consider a linear programming problem in standard form, described in terms of the following initial tablaeu*\n",
    "\n",
    "$$\\begin{array}{|c| c c c c c c c |}\n",
    "\\hline 0 & 0 & 0 & 0 & \\delta & 3 & \\gamma & \\xi \\\\\n",
    "\\hline \\beta & 0 & 1 & 0 & \\alpha  & 1 & 0 & 3 \\\\\n",
    "2 & 0 & 0 & 1 & -2 & 2 & \\eta & -1 \\\\\n",
    "3 & 1 & 0 & 0 & 0 & -1 & 2 & 1 \\\\\n",
    "\\hline\n",
    "\\end{array}$$\n",
    "\n",
    "*The entries $\\alpha, \\beta, \\gamma, \\eta, \\xi$ in the tableau are unknown parameters. Furthermore, let $B$ be the basis matrix corresponding to having $x_2, x_3$, and $x_1$ (in that order) be the basic variables. For each one of the following statements, find the ranges of values of the varius parameters that will make the statement true.*"
   ]
  },
  {
   "cell_type": "markdown",
   "metadata": {},
   "source": [
    "(a) *Phase II of the simplex method can be applied using this as an initial tableau.*"
   ]
  },
  {
   "cell_type": "markdown",
   "metadata": {},
   "source": [
    "In order to continue to phase II of the simplex method, the problem must be feasible. Therefore, all of the basic variables must be nongegative, i.e. $\\beta \\geq 0$.There are no restrictions on the other parameters."
   ]
  },
  {
   "cell_type": "markdown",
   "metadata": {},
   "source": [
    "(b) *The first row in the present tableau indicates that the problem is infeasible.*"
   ]
  },
  {
   "cell_type": "markdown",
   "metadata": {},
   "source": [
    "If $\\alpha \\geq 0$, then no feasible direction will result in an increase of $x_2$. Therefore if $\\alpha \\geq 0$ and $x_2$ is currently negative, i.e. $\\beta \\lt 0$, then the problem is infeasible. There are no restrictions on the other parameters."
   ]
  },
  {
   "cell_type": "markdown",
   "metadata": {},
   "source": [
    "(c) *The corresponding basic solution is feasible, but we do not have an optimal basis.*"
   ]
  },
  {
   "cell_type": "markdown",
   "metadata": {},
   "source": [
    "Either $\\delta, \\gamma,$ or $\\xi$ must be negative in order to have an improving direction, and $\\beta \\geq 0$ for the solution to be feasible. There are no restrictions on the other parameters. "
   ]
  },
  {
   "cell_type": "markdown",
   "metadata": {},
   "source": [
    "(d) *The corresponding basic solution is feasible and the first simplex iteration indicates that the optimal cost is $-\\infty$.*"
   ]
  },
  {
   "cell_type": "markdown",
   "metadata": {},
   "source": [
    "For the current basic solution to be feasible, $\\beta \\geq0$. If $\\delta \\lt 0$ and $\\alpha \\leq 0$, then $d = \\left[ \\begin{matrix} 0 & \\alpha & 2 & 1 & 0 & 0 & 0 \\end{matrix}\\right]$ is a feasible and improving direction so that if we tried to make $x_4$ enter the basis in the first iteration we could see the problem is unbounded."
   ]
  },
  {
   "cell_type": "markdown",
   "metadata": {},
   "source": [
    "(e) *The corresponding basic solution is feasible, $x_6$ is a candidate for entering the basis, and when $x_6$ is the entering variable, $x_3$ leaves the basis.*"
   ]
  },
  {
   "cell_type": "markdown",
   "metadata": {},
   "source": [
    "For $x_6$ to be a candidate for entering the basis, $\\gamma \\lt 0$. Assuming $x_6$ is entering, $x_3$ will be chosen as the exiting variable when the ratio $\\frac 2 \\eta$ is less than the ratio $\\frac 3 2$ and $\\eta > 0$. Therefore $\\eta \\gt \\frac 4 3$. Additionally, $\\beta$ must be positive for the solution to be feasible. There are no restrictions on the other parameters. "
   ]
  },
  {
   "cell_type": "markdown",
   "metadata": {},
   "source": [
    "(f) *The corresponding basic solution is feasible, $x_7$ is a candidate for entering the basis, but if it does, the solution and the objective value remain unchanged.*"
   ]
  },
  {
   "cell_type": "markdown",
   "metadata": {},
   "source": [
    "For $x_7$ to be a candidate for entering the basis, $\\xi \\lt 0$ The only way for the solution to be unchanged when $x_7$ enters the basis is if the current solution is degenerate. This could only be the case if one of the basic variables is zero, i.e. $\\beta = 0$. There are no restrictions on the other parameters. "
   ]
  },
  {
   "cell_type": "markdown",
   "metadata": {},
   "source": [
    "#### ***Problem 2.*** *Bertsimas & Tsitsiklis, Exercise 5.6*\n",
    "*Company A has agreed to supply the following quantities of special lamps to Company B during the next 4 months:*\n",
    "\n",
    "$$\\begin{array}{|c|c|c|c|c|}\n",
    "\\hline \\mathbf{Month} & \\mathrm{January} & \\mathrm{February} & \\mathrm{March} & \\mathrm{April} \\\\\n",
    "\\hline \\mathbf{Units} & 150 & 160 & 225 & 180 \\\\\n",
    "\\hline\n",
    "\\end{array}$$\n",
    "\n",
    "*Company A can produce a maximum of 160 lamps per month at a cost of `$`35 per unit. Additional lamps can be purchased from Company C at a cost of `$`50 per lamp. Company A incurs an inventory holding cost of `$`5 per month for each lamp held in inventory.*"
   ]
  },
  {
   "cell_type": "markdown",
   "metadata": {},
   "source": [
    "(a) *Formulate the problem that Company A is facing as a linear programming problem.*"
   ]
  },
  {
   "cell_type": "markdown",
   "metadata": {},
   "source": [
    "Let $d_i$ be the demand in  month $i, i\\in \\{1,2,3,4\\}$. We use the following decision variables:\n",
    "\n",
    "$u_i$: number of lamps to produce in month $i, i\\in \\{1,2,3,4\\}$. \n",
    "\n",
    "$v_i$: number of lamps to purchase from company C in month $i, i\\in \\{1,2,3,4\\}$.\n",
    "\n",
    "$x_i$: number of lamps to hold in inventory at the end of month $i, i\\in \\{1,2,3,4\\}$.\n",
    "\n",
    "the objective to function to minimize is:\n",
    "\n",
    "$$f(\\mathbf u, \\mathbf v, \\mathbf x) = 35\\sum_{i=1}^4 u_i + 50\\sum_{i=1}^4 v_i + 5\\sum_{i=1}^4 x_i$$\n",
    "\n",
    "The constraints are:\n",
    "$$\n",
    "\\begin{aligned}\n",
    "u_i &\\leq 160, i \\in \\{1,2,3,4\\}\\\\\n",
    "u_1+v_1 &= d_1+x_1\\\\\n",
    "u_i+v_i+x_{i-1} &= d_i + x_i, i \\in \\{2,3,4\\}\\\\\n",
    "u_i, v_i, x_i & \\geq 0, i \\in \\{1,2,3,4\\}\\\\ \n",
    "\\end{aligned}$$"
   ]
  },
  {
   "cell_type": "markdown",
   "metadata": {},
   "source": [
    "(b) *Solve the problem using a linear programming package.*"
   ]
  },
  {
   "cell_type": "markdown",
   "metadata": {},
   "source": [
    "Using Pyomo, we find that the optimal solution is: \n",
    "\n",
    "$$\n",
    "\\mathbf u =\\left[\\begin{matrix} 160 \\\\ 160 \\\\ 160 \\\\ 160 \\end{matrix}\\right]\\quad\n",
    "\\mathbf v =\\left[\\begin{matrix} 0 \\\\ 0 \\\\ 55 \\\\ 20 \\end{matrix}\\right]\\quad\n",
    "\\mathbf x =\\left[\\begin{matrix} 10 \\\\ 10 \\\\ 0 \\\\ 0 \\end{matrix}\\right]\n",
    "$$\n",
    "\n",
    "The objective value for this solution is $\\$26250.00$."
   ]
  },
  {
   "cell_type": "markdown",
   "metadata": {},
   "source": [
    "(c) *Company A is considering some preventive maintenance during one of the first three months. If maintenance is scheduled for January, the company can manufacture only 151 units (instead of 160) ; similarly, the maximum possible production if maintenance is scheduled for February or March is 153 and 155 units, respectively. What maintenance schedule would you recommend and why?*"
   ]
  },
  {
   "cell_type": "markdown",
   "metadata": {},
   "source": [
    "Let $\\pi_1,\\pi_2,$ and $\\pi_3$, be the shadow prices of performing the maintenance during January, February, and March respectively.\n",
    "\n",
    "$$\\begin{aligned}\n",
    "\\pi_1 &= 9\\times50 - 9\\times35 - 9\\times5 - 9\\times5 &&= 45 \\\\\n",
    "\\pi_2 &= 7\\times50 - 7\\times35 &&= 105 \\\\\n",
    "\\pi_3 &= 5\\times50 - 5\\times35 &&= 75\n",
    "\\end{aligned}$$\n",
    "\n",
    "Therefore scheduling the maintenance in January is advised because it will incur the smallest additional cost compared to the optimal solution calculated in (a)."
   ]
  },
  {
   "cell_type": "markdown",
   "metadata": {},
   "source": [
    "(d) *Company D has offered to supply up to 50 lamps (total) to Company A during either January, February or March. Company D charges `$`45 per lamp. Should Company A buy lamps from Company D? If yes, when and how many lamps should Company A purchase, and what is the impact of this decision on the total cost?*"
   ]
  },
  {
   "cell_type": "markdown",
   "metadata": {},
   "source": [
    "Yes, Company A should buy lamps from Company D because each unit that it purchases from Company D instead of Company C results in a a savings of $\\$5$. Company A can replace 50 of the units purchased in March with units from company D, resulting in a total savings of $50\\times (50-5) = \\$250$."
   ]
  },
  {
   "cell_type": "markdown",
   "metadata": {},
   "source": [
    "(e) *Company C has offered to lower the price of units supplied to Company A during February. What is the maximum decrease that would make this offer attractive to Company A?*"
   ]
  },
  {
   "cell_type": "markdown",
   "metadata": {},
   "source": [
    "Suppose that company C lowered the price from $\\$50$ to $\\$40$. The following production schedule would be feasible, and would result in the same objective value as the previous optimal solution:\n",
    "\n",
    "- Produce 150 units in January, purchase 0, and store 0 (saves $10\\times \\$35 + 10\\times \\$5 = \\$400$ this month compared to previous optimal)\n",
    "- Produce 160 units in February, purchase 10 (at lowered cost), and store 10 (costs additional $10\\times\\$40=\\$400$ this month compared to previous optimal)\n",
    "- Produce 160 units in March, purchase 55, and store 0\n",
    "- Produce 160 units in April, purchase 20, and store 0\n",
    "\n",
    "Therefore if the price in February was lowered below $\\$40$, then the offer would become attractive for Company A."
   ]
  },
  {
   "cell_type": "markdown",
   "metadata": {},
   "source": [
    "(f) *Because of anticipated increases in interest rates, the holding cost per lamp is expected to increase to `$`8 per unit in February. How does this change affect the total cost and the optimal solution?*"
   ]
  },
  {
   "cell_type": "markdown",
   "metadata": {},
   "source": [
    "If the holding cost increases to $\\$8$ in February then the effective cost of the lamps produced in January and delivered in March becomes $\\$51$, and it is more profitable to simply purchase 10 additional units in March and reduce the production in January to 150 units. The total cost will be increased by $10\\times(\\$50-\\$35-\\$5-\\$5)=\\$50$"
   ]
  },
  {
   "cell_type": "markdown",
   "metadata": {},
   "source": [
    "(g) *Company B has just informed Company A that it requires only 90 units in January (instead of 150 requested previously) . Calculate upper and lower bounds on the impact of this order on the optimal cost using information from the optimal solution to the original problem.*"
   ]
  },
  {
   "cell_type": "markdown",
   "metadata": {},
   "source": [
    "If Company B required 60 units fewer in January we can modify the optimal solution by either decreasing production in January by 60 units, making the total cost lower by $60\\times\\$35=\\$2100$, or we can keep production the same and not need to purchase any units in March and 5 less in April. The cost impact of doing this is: $-55\\times50 - 5\\times50 + 55\\times5\\times2+5\\times5\\times3=\\$2375$.\n",
    "\n",
    "Therefore the upper and lower bounds of the impact of this order change on the optimal cost are $-\\$2100$ and $-\\$2375$."
   ]
  },
  {
   "cell_type": "markdown",
   "metadata": {},
   "source": [
    "#### ***Problem 3.***\n",
    "*Outdoors, Inc. has, as one of its product lines, lawn furniture. They currently have three items in that line: a lawn chair, a standard bench, and a table. These products are produced with a two-step manufacturing process involving the tube-bending department and the welding department. The time required by each item in each department is as follows*\n",
    "\n",
    "$$\\begin{array}{|c|c c c|c|}\n",
    "\\hline \\ & \\mathrm{Lawn\\ Chair} & \\mathrm{Bench} & \\mathrm{Table} & \\mathrm{Present\\ Capacity} \\\\\n",
    "\\hline \\mathrm{Tube\\ bending} & 1.2 & 1.7 & 1.2 & 1000 \\\\\n",
    "\\mathrm{Welding} & 0.8 & 0 & 2.3 & 1200 \\\\\n",
    "\\hline\n",
    "\\end{array}$$\n",
    "\n",
    "*The contribution that Outdoors, Inc. receives from the manufacture and sale of one unit of each product is `$`3 for a chair, `$`3 for a bench, and `$`5 for a table.*"
   ]
  },
  {
   "cell_type": "markdown",
   "metadata": {},
   "source": [
    "*The company is trying to plan its production mix for the current selling season. It feels that it can sell any number it produces, but unfortunately production is further limited by available material, because of a long strike. The company currently has on hand 2000 lbs. of tubing. The three products require the following amounts of tubing: 2 lbs. per chair, 3 lbs. per bench, and 4.5 lbs. per table.*\n",
    "    \n",
    "*You may solve the LP by any means, but be sure to state the final tableau. It is neither necessary (or acceptable) to re-solve the problem to answer (b)-(h); however, you may need to perform additional iterations of the simplex method.*"
   ]
  },
  {
   "cell_type": "markdown",
   "metadata": {},
   "source": [
    "(a) *Formulate and solve a linear program to determine the optimal product mix. What is the optimal product mix and what contribution can the firm anticipate by producing this mix?*"
   ]
  },
  {
   "cell_type": "markdown",
   "metadata": {},
   "source": [
    "Let the decision variables $x_1,x_2,$ and $x_3$ be the number of chairs, benches, and tables to produce. The LP is:\n",
    "\n",
    "$$\\begin{matrix}\n",
    "\\mathrm{max} & 3x_1 & + 3x_2 & +5x_3\\\\\n",
    "\\mathrm{subject \\ to} & 1.2 x_1 & +1.7 x_2 & +1.2 x_3 & \\leq 1000 \\\\\n",
    " & 0.8 x_1 &  & +2.3 x_3 & \\leq 1200 \\\\\n",
    " & 2 x_1 & +3 x_2 & +4.5 x_3 & \\leq 2000 \\\\\n",
    " & x_1, & x_2, & x_3 & \\geq 0 \\\\\n",
    "\\end{matrix}$$"
   ]
  },
  {
   "cell_type": "markdown",
   "metadata": {},
   "source": [
    "In standard form, this becomes:\n",
    "$$\\mathrm{min} \\quad cx \\quad \\mathrm{s.t.} \\;Ax=b$$\n",
    "\n",
    "$$\n",
    "c=\\left[ \\begin{matrix} -3 & -3 & -5 \\end{matrix} \\right] \\quad\n",
    "A=\\left[ \\begin{matrix} \n",
    "1.2 & 1.7 & 1.2 & 1 & 0 & 0 \\\\\n",
    "0.8 & 0   & 2.3 & 0 & 1 & 0 \\\\ \n",
    "2   & 3   & 4.5 & 0 & 0 & 1 \n",
    "\\end{matrix} \\right] \\quad\n",
    "b=\\left[ \\begin{matrix} 1000 \\\\ 1200 \\\\ 2000 \\end{matrix} \\right] \\quad$$\n"
   ]
  },
  {
   "cell_type": "markdown",
   "metadata": {},
   "source": [
    "We proceed with the tableau method:\n",
    "\n",
    "$$\\begin{array}{|c|c c c c c c|c|c|}\n",
    "\\hline\n",
    "\\mathrm{BV} & x_1 & x_2 & x_3 & s_1 & s_2 & s_3 & \\mathrm{RHS} & \\mathrm{Ratio}\n",
    "\\\\ \\hline\n",
    "-z & -3 & -3 & -5 & 0 & 0 & 0 & 0 & \\\n",
    "\\\\ \\hline\n",
    "s_1 & 1.2 & 1.7 & 1.2 & 1 & 0 & 0 & 1000 & 1000/1.2=833.3\n",
    "\\\\ \n",
    "s_2 & 0.8 & 0 & 2.3 & 0 & 1 & 0 & 1200 & 1200/2.3=521.7\n",
    "\\\\ \n",
    "s_3 & 2 & 3 & 4.5^* & 0 & 0 & 1 & 2000 & 2000/4.5=444.4\n",
    "\\\\ \\hline\n",
    "\\end{array}$$\n"
   ]
  },
  {
   "cell_type": "markdown",
   "metadata": {},
   "source": [
    "$x_3$ enters the basis and $s_3$ leaves\n",
    "\n",
    "$$\\begin{array}{|c|c c c c c c|c|c|}\n",
    "\\hline\n",
    "\\mathrm{BV} & x_1 & x_2 & x_3 & s_1 & s_2 & s_3 & \\mathrm{RHS} & \\mathrm{Ratio}\n",
    "\\\\ \\hline\n",
    "-z & -7/9 & 1/3 & 0 & 0 & 0 & 10/9 & 20000/9 & \\\n",
    "\\\\ \\hline\n",
    "s_1 & 2/3^* & 9/10 & 0 & 1 & 0 & -4/15 & 1400/3 & 700\n",
    "\\\\ \n",
    "s_2 & -2/9 & -23/15 & 0 & 0 & 1 & -23/45 & 1600/9 & -\n",
    "\\\\ \n",
    "x_3 & 4/9 & 2/3 & 1 & 0 & 0 & 2/9 & 4000/9 & 1000\n",
    "\\\\ \\hline\n",
    "\\end{array}$$\n"
   ]
  },
  {
   "cell_type": "markdown",
   "metadata": {},
   "source": [
    "$x_1$ enters the basis and $s_1$ leaves\n",
    "\n",
    "$$\\begin{array}{|c|c c c c c c|c|c|}\n",
    "\\hline\n",
    "\\mathrm{BV} & x_1 & x_2 & x_3 & s_1 & s_2 & s_3 & \\mathrm{RHS} & \\mathrm{Ratio}\n",
    "\\\\ \\hline\n",
    "-z & 0 & 83/60 & 0 & 7/6 & 0 & 4/5 &  8300/3 & \\\n",
    "\\\\ \\hline\n",
    "x_1 & 1 & 27/20 & 0 & 3/2 & 0 & -2/5 & 700 & -\n",
    "\\\\ \n",
    "s_2 & 0 & -37/30 & 0 & 1/3 & 1 & -3/5 & 1000/3 & -\n",
    "\\\\ \n",
    "x_3 & 0 & 1/15 & 1 & -2/3 & 0 & 2/5 & 400/3 & -\n",
    "\\\\ \\hline\n",
    "\\end{array}$$\n"
   ]
  },
  {
   "cell_type": "markdown",
   "metadata": {},
   "source": [
    "Therefore the optimal solution is $x=\\left[ \\begin{matrix} 700 & 0 & 133.33 \\end{matrix} \\right]$, i.e. to produce 700 chairs, zero benches, and 133.33 tables. The firm can expect a contribution of $\\$ 2766.7$ from this combination."
   ]
  },
  {
   "cell_type": "markdown",
   "metadata": {},
   "source": [
    "(b) *What is the value of one more unit of tube-bending time? of welding time? of metal tubing?What is the value of one more unit of tube-bending time? of welding time? of metal tubing?*"
   ]
  },
  {
   "cell_type": "markdown",
   "metadata": {},
   "source": [
    "Let $\\pi=c_B B^{-1}$. We know that changes in the value of $b$, here the tube-bending time, welding time, and available tubing material, impact the objective value according to the following formula:\n",
    "$$ \\Delta z=\\pi_i\\cdot \\Delta b_i, i\\in\\{1,2,3\\}$$\n",
    "as long as $\\Delta b$ is small. This is because our optimal solution is $x_B=B^{-1}b$, and $z=c_B \\cdot x_B$, so $z=c_B \\cdot B^{-1}b$.\n",
    "Given that the initial basis in out problem was the identity matrix corresponding to the slack variables $s_1,s_2,$ and $s_3$, we can read off $B^{-1}$ from the final tableau:\n",
    "\n",
    "$$B^{-1}=\\left[\\begin{matrix}\n",
    "3/2 & 0 & -2/5 \\\\\n",
    "1/3 & 1 & -3/5 \\\\\n",
    "-2/3 & 0 & 2/5\n",
    "\\end{matrix}\\right]\n",
    ",\\quad c_B=\\left[\\begin{matrix} -3 & 0 & -5 \\end{matrix}\\right]\n",
    ",\\quad b^\\top=\\left[\\begin{matrix} 1000 & 1200 & 2000 \\end{matrix}\\right] \\\\\n",
    "$$\n",
    "\n",
    "$$\n",
    "\\pi=c_B B^{-1}=\\left[\\begin{matrix} -7/6 & 0 & -4/5 \\end{matrix}\\right]\n",
    "$$\n",
    "\n",
    "Where the signs correspond to the minimization problem used for the simplex in tableau form. For the originial maximization problem we have the opposite signs.\n",
    "\n",
    "Therefore the value of an increase of one unit of tube-bending time is $\\$7/6=\\$1.17$, one unit of welding time is $\\$0$, and one unit of metal tubing material is $\\$0.80$"
   ]
  },
  {
   "cell_type": "markdown",
   "metadata": {},
   "source": [
    "(c) *A local distributor has offered to sell Outdoors, Inc. some additional metal tubing for `$`0.60/lb. Should Outdoors buy it? If yes, how much would the firm’s contribution increase if they bought 500 lbs. and used it in optimal fashion?*"
   ]
  },
  {
   "cell_type": "markdown",
   "metadata": {},
   "source": [
    "From part (b), we see that additional metal tubing is increases revenue by $\\$0.80$ per unit, so it should buy the additional tubing priced at $\\$0.60$. If they purchase an additional 500 units at this price, we can find the new optimal allocation by calculating the new value of $x_B'$ with $b'=\\left[\\begin{matrix} 1000 & 1200 & 1200 \\end{matrix}\\right]^\\top$:\n",
    "$$\n",
    "x_B'=B^{-1}b' = \\left[\\begin{matrix} 500 & 1000/3 & 100/3 \\end{matrix}\\right]\n",
    "$$\n",
    "and we can see this solution is still feasible since $x_B'>=0$. Additionally, the vector of reduced costs $\\bar c = c - c_B B^{-1}A$ has not changed, so the basis found in (a) is still optimal and feasible.\n",
    "\n",
    "The optimal product mix is then 500 lawn chairs, 0 benches, and 1000/3 tables.\n",
    "\n",
    "The total sales increase by $500\\times(\\$0.8-\\$0.6)=\\$100$, which we can verify by computing the new revenue:\n",
    "$$\n",
    "z'= 500 \\times 3 + \\frac{1000}{3} \\times 5 - 500 \\times 0.6 = \\$ 2866.67\n",
    "$$\n",
    "Which is $\\$100$ more than the previous optimal of $\\$2766.67$"
   ]
  },
  {
   "cell_type": "markdown",
   "metadata": {},
   "source": [
    "(d) *If Outdoors Inc. feels that it must produce at least 100 benches to round out its product line, what effect will that have on its contribution?*"
   ]
  },
  {
   "cell_type": "markdown",
   "metadata": {},
   "source": [
    "Requiring the production of at least 100 benches will decrease the revenue. This is equivalent to adding a new constraint to the original problem: $x_2 \\geq 100$, and since the current optimal solution does not satisfy this constraint $(x_2 = 0)$, we need to find a different solution."
   ]
  },
  {
   "cell_type": "markdown",
   "metadata": {},
   "source": [
    "Since the current optimal solution is nondegenerate, and the reduced costs of the nonbasic variables $\\bar c_N = \\left[\\begin{matrix} \\bar c_2 & \\bar c_4 & \\bar c_6 \\end{matrix} \\right] = c_N - c_B B^{-1} N = \\left[\\begin{matrix} \\frac{83}{60} & \\frac 4 5 & \\frac 7 6 \\end{matrix} \\right]$ are strictly positive, the current solution is unique.\n",
    "\n",
    "thus the addition of the new constraint will lead to a new solution with a smaller objective value."
   ]
  },
  {
   "cell_type": "markdown",
   "metadata": {},
   "source": [
    "(e) *The R&D department has been redesigning the bench to make it more profitable. The new design will require 1.1 hours of tube-bending time, 2.0 hours of welding time, and 2.0 lbs. of metal tubing. If it can sell benches with a unit contribution of `$`3, what effect will it have on overall contribution? Find the new optimal product mix.*"
   ]
  },
  {
   "cell_type": "markdown",
   "metadata": {},
   "source": [
    "In our linear program, the new bench is equivalent to updating the current column $A_2$ with $\\left[ \\begin{matrix} 1.1 & 2 & 2 \\end{matrix} \\right] ^\\top$. We must check whether the current solution is still optimal by verifying whether $\\bar c_2$ is still positive. We now have:\n",
    "\n",
    "$$\\bar c_2 = c_2 - c_B B^{-1} \\left[ \\begin{matrix} 1.1 \\\\ 2 \\\\ 2 \\end{matrix} \\right]\n",
    "=-3 - \\left[ \\begin{matrix} -3 & 0 & -5 \\end{matrix} \\right] \n",
    "\\left[ \\begin{matrix} \n",
    "3/2 & 0 & -2/5 \\\\\n",
    "1/3 & 1 & -3/5 \\\\\n",
    "-2/3 & 0 & 2/5\n",
    "\\end{matrix} \\right] \n",
    "\\left[ \\begin{matrix} 1.1 \\\\ 2 \\\\ 2 \\end{matrix} \\right]\n",
    "= \\frac{-7}{60}\n",
    "$$\n"
   ]
  },
  {
   "cell_type": "markdown",
   "metadata": {},
   "source": [
    "Since $\\bar c_2 < 0$ we need to make $x_2$ enter the basis since the current solution is not optimal anymore under the new conditions. We replace the current column under variable $x_2$ with $B^{-1} \\left[ \\begin{matrix} 1.1 \\\\ 2 \\\\ 2 \\end{matrix} \\right]=\\left[ \\begin{matrix} 17/20 \\\\ 7/6 \\\\ 1/15 \\end{matrix} \\right]$, and we continue with the simplex method from there:\n",
    "\n",
    "$$\\begin{array}{|c|c c c c c c|c|c|}\n",
    "\\hline\n",
    "\\mathrm{BV} & x_1 & x_2 & x_3 & s_1 & s_2 & s_3 & \\mathrm{RHS} & \\mathrm{Ratio}\n",
    "\\\\ \\hline\n",
    "-z & 0 & -7/60 & 0 & 7/6 & 0 & 4/5 &  8300/3 & \\\n",
    "\\\\ \\hline\n",
    "x_1 & 1 & 17/20 & 0 & 3/2 & 0 & -2/5 & 700 & 14000/17 = 823.5\n",
    "\\\\ \n",
    "s_2 & 0 & 7/6^* & 0 & 1/3 & 1 & -3/5 & 1000/3 & 2000/7=285.7\n",
    "\\\\ \n",
    "x_3 & 0 & 1/15 & 1 & -2/3 & 0 & 2/5 & 400/3 & 6000/3=2000\n",
    "\\\\ \\hline\n",
    "\\end{array}$$\n"
   ]
  },
  {
   "cell_type": "markdown",
   "metadata": {},
   "source": [
    "$x_2$ enters the basis and $s_2$ leaves:\n",
    "\n",
    "$$\\begin{array}{|c|c c c c c c|c|c|}\n",
    "\\hline\n",
    "\\mathrm{BV} & x_1 & x_2 & x_3 & s_1 & s_2 & s_3 & \\mathrm{RHS} & \\mathrm{Ratio}\n",
    "\\\\ \\hline\n",
    "-z & 0 & 0 & 0 & 6/5 & 1/10 & 37/50 & 2800 & \\\n",
    "\\\\ \\hline\n",
    "x_1 & 1 & 0 & 0 & 44/35 & -51/70 & 13/350 & 3200/7 & -\n",
    "\\\\ \n",
    "x_2 & 0 & 1 & 0 & 2/7 & 6/7 & -18/35 & 2000/7 & -\n",
    "\\\\ \n",
    "x_3 & 0 & 0 & 1 & -24/35 & -2/35 & 76/175 & 800/7 & -\n",
    "\\\\ \\hline\n",
    "\\end{array}$$\n"
   ]
  },
  {
   "cell_type": "markdown",
   "metadata": {},
   "source": [
    "Therefore the new combination mix is $\\frac{3200}{7}=457.14$ lawn chairs, $\\frac{2000}{7}=285.71$ benches, and $\\frac{800}{7}=114.29$ tables, resulting in a total revenue of $2800."
   ]
  },
  {
   "cell_type": "markdown",
   "metadata": {},
   "source": [
    "(f) *Marketing has suggested a new patio awning that would require 1.8 hours of tube-bending time, 0.5 hours of welding time, and 1.3 lbs. of metal tubing. What contribution must this new product have to make it attractive to produce this season?*"
   ]
  },
  {
   "cell_type": "markdown",
   "metadata": {},
   "source": [
    "Introducing a new product is equivalent to introducing a new variable to the LP with cost $-c_7$ (or contribution $c_7$ in the original formulation) and a corresponding column $A_7 = \\left[\\begin{matrix} 1.8 & 0.5 & 1.3 \\end{matrix}\\right]^\\top$. In order for this product to be attractive for production, it must have a negative reduced cost, i.e. $\\bar c_7 = -c_7 - c_B B^{-1} A_7 \\lt 0$, meaning it would lead to a mix with higher revenue.\n",
    "\n",
    "This means the contribution $c_7$ must be:\n",
    "$$\n",
    "c_7 \\gt -c_B B^{-1}A_7 = \n",
    "\\left[\\begin{matrix} -3 & 0 & -5 \\end{matrix}\\right]\n",
    "\\left[\\begin{matrix} 3/2 & 0 & -2/5 \\\\ 1/3 & 1 & -3/5 \\\\ -2/3 & 0 & 2/5 \\end{matrix}\\right]\n",
    "\\left[\\begin{matrix} 1.8 \\\\ 0.5 \\\\ 1.3 \\end{matrix}\\right]\n",
    "= 157/50\n",
    "$$\n",
    "So we find the new product must have a contribution greater than $\\$157/60=\\$3.14$ to be attractive to produce this season. "
   ]
  },
  {
   "cell_type": "markdown",
   "metadata": {},
   "source": [
    "(g) *Outdoors, Inc. has a chance to sell some of its capacity in tube bending time at a cost of `$`1.50/hour. If it sells 200 hours at that price, how will this affect contribution?*"
   ]
  },
  {
   "cell_type": "markdown",
   "metadata": {},
   "source": [
    "If the company sells 200 hours of tube bending time our new vector $b$ becomes $b^\\top = \\left[\\begin{matrix} 800 & 1200 & 2000 \\end{matrix}\\right]$, and it will profit $200\\times \\$1.5=\\$300$. However, from part (b), we know that for changes small enough the sales go down $\\$7/6$ for decrease of tube-bending time, or $200 \\times 7/6 = 1400/6 = \\$233.33$.\n",
    "\n",
    "If the initial solution is still feasible, that is, $x_B' = B^{-1}b'\\geq 0$:\n",
    "\n",
    "$$\n",
    "x_B' = \\left[\\begin{matrix}\n",
    "3/2 & 0 & -2/5 \\\\\n",
    "1/3 & 1 & -3/5 \\\\\n",
    "-2/3 & 0 & 2/5\n",
    "\\end{matrix}\\right]\n",
    "\\left[\\begin{matrix} 800 \\\\ 1200 \\\\ 2000 \\end{matrix}\\right]\n",
    "=\\left[\\begin{matrix} 400 \\\\ 800/3 \\\\ 800/3 \\end{matrix}\\right]\n",
    "\\geq 0\n",
    "$$\n",
    "\n",
    "So the solution is still feasible and optimal.\n",
    "\n",
    "As expected, this corresponds to sales of $\\frac{8300}{3}-\\frac{1400}{6} = \\$2544.33$.\n",
    "\n",
    "Thus selling 200 hours of tube bending time is overall profitable, increasing total revenue by $300 - 233.33 = \\$66.67$."
   ]
  },
  {
   "cell_type": "markdown",
   "metadata": {},
   "source": [
    "(h) *If the contribution on chairs were to decrease to `$`2.50, what would be the optimal production mix and what contribution would this production plan give?*"
   ]
  },
  {
   "cell_type": "markdown",
   "metadata": {},
   "source": [
    "If the contribution of chairs went to $\\$2.5$ from $\\$3$, the reduced costs of non-basic variables would change in our linear program. If the new reduced costs $\\bar c'$ are still positive, the optimal solution stays the same, but if any is negative the simplex method needs to be continued.\n",
    "\n",
    "$$\n",
    "\\bar c_N = c_N - c_B'B^{-1}N\n",
    "=\\left[\\begin{matrix} -3 & 0 & 0 \\end{matrix}\\right]\n",
    "-\\left[\\begin{matrix} -2.5 & 0 & -5 \\end{matrix}\\right]\n",
    "\\left[\\begin{matrix} \n",
    "3/2 & 0 & -2/5 \\\\\n",
    "1/3 & 1 & -3/5 \\\\\n",
    "-2/3 & 0 & 2/5\n",
    "\\end{matrix}\\right]\n",
    "\\left[\\begin{matrix} \n",
    "1.7 & 1 & 0 \\\\\n",
    "0 & 0 & 0 \\\\\n",
    "3 & 0 & 1\n",
    "\\end{matrix}\\right]\n",
    "$$\n",
    "\n",
    "$$\n",
    "=\\left[\\begin{matrix} 17/24 & 5/12 & 1 \\end{matrix}\\right]\n",
    "\\gt0\n",
    "$$\n",
    "\n",
    "Therefore the solution (700 chairs, zero benches, and 400/3 tables) stays optimal. The new optimal objective value is $2.5\\times 700 + 5\\times 400/3 =7250/3 = \\$2416.67$"
   ]
  },
  {
   "cell_type": "markdown",
   "metadata": {},
   "source": [
    "#### ***Problem 4.***\n",
    "*The Big 12 is a collegiate athletic conference consisting of 10 universities. The conference has experienced some turmoil of late with some teams leaving, a couple new teams joining, and a new commissioner being hired. The new commissioner is trying to cut costs by minimizing travel costs associated with the assignment of officiating crews to next season’s football games. There are five officiating crews that will handle all the games; each crew stays together throughout the entire season. Each week there is a fixed cost associated with the lodging and salaries of the crew, but the travel costs are variable and are determined by the sequence of games officiated by each crew. The Big 12 commissioner wants to keep travel costs as low as possible, but Big 12 rules clearly state that an officiating crew cannot work two consecutive games involving the same team (as the home team or the visitor). The commissioner is considering hiring you to help solve his problem. In order to convince him that you really can solve it, he has provided you with the fictitious six-game schedule in Table 1 (which ignores things like the fact that Texas and Oklahoma play in Dallas each year). The officiating crews are financially responsible for transporting themselves to the first game (as indicated in the table), and for transporting themselves back home from the final game. In order to determine reasonable compensation for travel expenses, the commissioner’s staff recommends using Google Maps to determine the distance between each origin-destination pair. Multiplying these values by `$`0.50 (per mile) $\\times$ 7 officials per crew gives the value (in dollars) that the Big 12 must reimburse the crews.*"
   ]
  },
  {
   "cell_type": "markdown",
   "metadata": {},
   "source": [
    "(a) *Use linear programming to determine the optimal travel plans for each of the officiating crews and determine the total travel costs. The Big 12 commissioner knows nothing (and has no desire to learn anything) about linear programming, decision variables, etc. Provide a one-page solution that he can understand.*"
   ]
  },
  {
   "cell_type": "markdown",
   "metadata": {},
   "source": [
    "We first define the following sets:\n",
    "\n",
    "- $D = \\{1,\\dots,6\\}$ corresponds to the different game dates.\n",
    "- $G = \\{1,\\dots,5\\}$ corresponds to the games occuring on a given date.\n",
    "- $T = \\{1,\\dots,10\\}$ corresponds to the teams in the conference.\n",
    "\n",
    "In order to make it easier to formulate the problem, we rearrange the input data:\n",
    "\n",
    "- $H_{ikd}$ is a 3d matrix indicating which team is the home team for each game at each date: $H_{ikd} = 1$ if team $k$ is the home team of game $i$ on date $d$, and zero otherwise.\n",
    "- $V_{ikd}$ is a similar matrix to $H_{ikd}$, but for the visiting teams.\n",
    "- $D_{ikd}$ is a 3d matrix that contains the distance required to travel from game $i$ on date $d$ to game $j$ on date $d+1$, $d \\in D \\backslash \\{6\\}$"
   ]
  },
  {
   "cell_type": "markdown",
   "metadata": {},
   "source": [
    "The unknowns, or decision variables, in this problem are the different work assignment of the officiating crews: for each crew we need to choose which of the games they will work on at each date. We deonte these by $a_{cid} = 1$ if crew c works on game $i$ at date $d$ and zero otherwise, $c\\in G, i \\in G, d\\in D$\n",
    "\n",
    "There are a numbre of constraints needed to solve this problem:\n",
    "- We need a crew working on each game: $\\sum_{c\\in G} a_{cid} \\geq 1, i\\in G, d\\in D$\n",
    "- A crew is only able to work on one game each date: $\\sum_{i\\in G} a_{cid} \\leq 1, c\\in G, d\\in D$\n",
    "- By definition our decision variables are positive: $a_{cid} \\geq 0, c\\in G, i\\in G, d\\in D$\n",
    "- We are given the schedule for the first date: $a_{cc1} = 1 \\; i\\in G, \\quad a_{ij1} = 0 \\; i\\neq j$\n",
    "- We know that as a rule a crew cannot work on two consecutive games involving the same two teams. Mathematically we use the matricies indicating the home and visitor teams , and we say that for a given date if a crew is officiating a game with some team t then it cannot work on a game involving the same team the date before or after:\n",
    "\n",
    "$$\n",
    "\\sum_{i\\in G}\n",
    "\\underbrace{(H_{ikd} + V_{ikd})a_{cid}}_{\\begin{matrix}\n",
    "This\\ team\\ equals\\ 1\\ for\\ some\\ \\\\\n",
    "game\\ i\\ if\\ crew\\ c\\ officiates\\ \\\\\n",
    "team\\ t's\\ game\\ on\\ date\\ d\\\\\n",
    "(whether\\ visitor\\ or\\ home\\ team) \\end{matrix}}\n",
    "+\n",
    "\\underbrace{(H_{ikd+1} + V_{ikd+1})a_{cid+1}}_{\\begin{matrix}\n",
    "same\\ but\\ for\\\n",
    "the\\ following\\ date \\end{matrix}}\n",
    "\\leq 1\n",
    "\\quad t\\in T, c\\in G, d\\in D \\backslash \\{6\\}\n",
    "$$"
   ]
  },
  {
   "cell_type": "markdown",
   "metadata": {},
   "source": [
    "Now we need to express the value we want to optimize. Since costs are directly proportional to the total distance traveled by all crews we seek to minimize the total distance traveled.\n",
    "\n",
    "For a given crew $c$ the distance traveled from date $d$ to date $d +1$ is given by $\\sum_{i \\in G} \\sum_{j\\in G} D_{ijd}\\ a_{cid}\\ a_{cid+1}$ since the team will equal $D_{ijd}$ where $i$ corresponds to game $i$ that crew $c$ officiates on date $d$, and game $j$ on $d+1$.\n",
    "\n",
    "Summing this over all crews and dates gives us our total objective value we are trying to minimize:\n",
    "$$\\mathrm{min} \\sum\\limits_{C\\in G} \\sum\\limits_{d\\in D \\backslash \\{6\\}} \\sum\\limits_{i \\in G} \\sum\\limits_{j\\in G} D_{ijd}\\ a_{cid}\\ a_{cid+1}$$"
   ]
  },
  {
   "cell_type": "markdown",
   "metadata": {},
   "source": [
    "In summary, the LP is:\n",
    "\n",
    "$$\n",
    "\\mathrm{min} \\quad \\sum\\limits_{C\\in G} \\sum\\limits_{d\\in D \\backslash \\{6\\}} \\sum\\limits_{i \\in G} \\sum\\limits_{j\\in G} D_{ijd}\\ a_{cid}\\ a_{cid+1}\n",
    "$$\n",
    "\n",
    "$$\n",
    "\\begin{aligned}\n",
    "\\mathrm{s.t.} && \\sum_{c\\in G} a_{cid} \\geq 1 && i\\in G \\quad d\\in D\\\\\n",
    "&& \\sum_{i\\in G} a_{cid} \\leq 1 && c\\in G \\quad d\\in D \\\\\n",
    "\\end{aligned}\n",
    "$$\n",
    "\n",
    "$$\n",
    "\\sum_{i\\in G} (H_{ikd} + V_{ikd})a_{cid} + (H_{ikd+1} + V_{ikd+1})a_{cid+1} \\leq 1\n",
    "\\quad t\\in T, c\\in G, d\\in D \\backslash \\{6\\}\n",
    "$$\n",
    "\n",
    "$$\n",
    "a_{cc1} = 1 \\; c\\in G \\\\\n",
    "$$\n",
    "\n",
    "$$\n",
    "a_{cid} \\geq 0 \\; c\\in G \\; i\\in G \\; d\\in D\n",
    "$$"
   ]
  },
  {
   "cell_type": "markdown",
   "metadata": {},
   "source": [
    "Using pyomo, we find that the optimal crew assignment is:\n",
    "\n",
    "$$\\begin{array}{c c c c c c}\n",
    "Date & Game & Home & Visiting & Assignment\\ (a) & Assignment\\ (b) \\\\\n",
    "1 & 1 & Baylor & TCU  & 1 & 1\\\\\n",
    " & 2 & Iowa\\ State & Kansas\\ State  & 2 & 2\\\\\n",
    " & 3 & Kansas & Oklahoma\\ State  & 3 & 3\\\\\n",
    " & 4 & Texas & Oklahoma  & 4 & 4\\\\\n",
    " & 5 & Texas\\ Tech & West\\ Virginia & 5 & 5\\\\\n",
    "\\\\\n",
    "2 & 1 & Oklahoma & Kansas & 2 & 4\\\\\n",
    " & 2 & Oklahoma\\ State & Iowa\\ State & 5 & 5\\\\\n",
    " & 3 & TCU & Texas\\ Tech & 4 & 4\\\\\n",
    " & 4 & Texas & Baylor & 3 & 2\\\\\n",
    " & 5 & West\\ Virginia & Kansas\\ State & 1 & 1\\\\\n",
    "\\\\\n",
    "3 & 1 & Baylor & Kansas & 5 & 5\\\\\n",
    " & 2 & Iowa\\ State & Oklahoma & 3 & 2\\\\\n",
    " & 3 & Kansas\\ State & Oklahoma\\ State & 4 & 1\\\\\n",
    " & 4 & Texas\\ Tech & Texas & 1 & 4\\\\\n",
    " & 5 & West\\ Virginia & TCU & 2 & 3\\\\\n",
    "\\\\\n",
    "4 & 1 & Oklahoma & Baylor & 4 & 1\\\\\n",
    " & 2 & Oklahoma\\ State & West\\ Virginia & 1 & 4\\\\\n",
    " & 3 & TCU & Kansas\\ State & 5 & 2\\\\\n",
    " & 4 & Texas & Iowa\\ State & 2 & 3\\\\\n",
    " & 5 & Texas\\ Tech & Kansas & 3 & 5\\\\\n",
    "\\\\\n",
    "5 & 1 & Baylor & Oklahoma\\ State & 5 & 2\\\\\n",
    " & 2 & Iowa\\ State & Texas\\ Tech & 1 & 4\\\\\n",
    " & 3 & Kansas\\ State & Texas  & 3 & 5\\\\\n",
    " & 4 & TCU & Oklahoma & 2 & 1\\\\\n",
    " & 5 & West\\ Virginia & Kansas & 4 & 3\\\\\n",
    "\\\\\n",
    "6 & 1 & Kansas & Iowa State & 2 & 1\\\\\n",
    " & 2 & Kansas\\ State & Baylor & 4 & 3\\\\\n",
    " & 3 & Oklahoma & Texas Tech & 5 & 2\\\\\n",
    " & 4 & Oklahoma\\ State & TCU & 3 & 5\\\\\n",
    " & 5 & West\\ Virginia & Texas & 1 & 4\\\\\n",
    "\\end{array}$$"
   ]
  },
  {
   "cell_type": "markdown",
   "metadata": {},
   "source": [
    "With this assignment the total distance traveled by the crews is 9872 miles which implies travel costs of $\\$34551.10$."
   ]
  },
  {
   "cell_type": "markdown",
   "metadata": {},
   "source": [
    "(b) *The commissioner is also interested in how much money could be saved if the consecutive-games rule were relaxed so that instead crews cannot officiate two consecutive games for the same home team. For example, Texas is the home team in weeks 1 and 2. Under the modified rule, Crew #4 could not officiate the Texas-Baylor game in week 2, but would be eligible to officiate the Oklahoma-Kansas game in week 2.*"
   ]
  },
  {
   "cell_type": "markdown",
   "metadata": {},
   "source": [
    "The optimal assignments using the relaxed rule are given in the same table with part (a).\n",
    "\n",
    "In order to relax the consecutive games rule we just need to modify the corresponding constraint so that a crew cannot be assigned with the same home team two dates in a row. We simply need to remove the visitor matrix from the constraint, and we obtain the following:\n",
    "\n",
    "$$\n",
    "\\sum_{i\\in G} H_{ikd}\\ a_{cid} + H_{itd_1}\\ a_{cid+1} \\leq 1 \\quad t\\in T \\; c\\in G\\; d\\in D \\backslash \\{6\\}\n",
    "$$\n",
    "\n",
    "Running the pyomo problem with this modification we obtain a new optimal assignment which leads to a total distance traveled of 8366.8 miles implying a cost of $\\$ 29283.77$.\n",
    "\n",
    "Therefore relaxing the rule would lead to a cost reduction of $\\$5268.33$."
   ]
  },
  {
   "cell_type": "markdown",
   "metadata": {},
   "source": [
    "#### Code/Outputs"
   ]
  },
  {
   "cell_type": "markdown",
   "metadata": {},
   "source": [
    "#### Problem 2"
   ]
  },
  {
   "cell_type": "code",
   "execution_count": 1,
   "metadata": {},
   "outputs": [
    {
     "name": "stdout",
     "output_type": "stream",
     "text": [
      "Status: ok\n",
      "Termination Condition: optimal\n",
      "Optimal Objective:  26250.0\n",
      "u : Size=4, Index=months\n",
      "    Key : Lower : Value : Upper : Fixed : Stale : Domain\n",
      "      0 :     0 : 160.0 :  None : False : False : NonNegativeReals\n",
      "      1 :     0 : 160.0 :  None : False : False : NonNegativeReals\n",
      "      2 :     0 : 160.0 :  None : False : False : NonNegativeReals\n",
      "      3 :     0 : 160.0 :  None : False : False : NonNegativeReals\n",
      "v : Size=4, Index=months\n",
      "    Key : Lower : Value : Upper : Fixed : Stale : Domain\n",
      "      0 :     0 :   0.0 :  None : False : False : NonNegativeReals\n",
      "      1 :     0 :   0.0 :  None : False : False : NonNegativeReals\n",
      "      2 :     0 :  55.0 :  None : False : False : NonNegativeReals\n",
      "      3 :     0 :  20.0 :  None : False : False : NonNegativeReals\n",
      "x : Size=4, Index=months\n",
      "    Key : Lower : Value : Upper : Fixed : Stale : Domain\n",
      "      0 :     0 :  10.0 :  None : False : False : NonNegativeReals\n",
      "      1 :     0 :  10.0 :  None : False : False : NonNegativeReals\n",
      "      2 :     0 :   0.0 :  None : False : False : NonNegativeReals\n",
      "      3 :     0 :   0.0 :  None : False : False : NonNegativeReals\n"
     ]
    }
   ],
   "source": [
    "import numpy as np\n",
    "import pyomo.environ as pe\n",
    "\n",
    "model = pe.ConcreteModel()\n",
    "\n",
    "# sets\n",
    "model.months = pe.Set(initialize = range(4))\n",
    "\n",
    "# variables\n",
    "model.u = pe.Var(model.months, domain = pe.NonNegativeReals)\n",
    "model.v = pe.Var(model.months, domain = pe.NonNegativeReals)\n",
    "model.x = pe.Var(model.months, domain = pe.NonNegativeReals)\n",
    "\n",
    "# parameters\n",
    "d = [150,160,225,180]\n",
    "\n",
    "# objective\n",
    "model.obj = pe.Objective(expr = \n",
    "    35*sum(model.u[i] for i in model.months) +\\\n",
    "    50*sum(model.v[i] for i in model.months) +\\\n",
    "     5*sum(model.x[i] for i in model.months))\n",
    "\n",
    "# constraints\n",
    "model.c = pe.ConstraintList()\n",
    "model.c.add(model.u[0] + model.v[0] == d[0] + model.x[0])\n",
    "for i in model.months:\n",
    "    model.c.add(model.u[i] <= 160)\n",
    "    if (i != 0):\n",
    "        model.c.add(model.u[i] + model.v[i] + model.x[i-1] == d[i] + model.x[i])\n",
    "        \n",
    "# solve\n",
    "solver = pe.SolverFactory('cbc')\n",
    "results = solver.solve(model)\n",
    "print(\"Status:\", results.solver.status)\n",
    "print(\"Termination Condition:\", results.solver.termination_condition)\n",
    "print(\"Optimal Objective: \", model.obj())\n",
    "model.u.pprint()\n",
    "model.v.pprint()\n",
    "model.x.pprint()"
   ]
  },
  {
   "cell_type": "markdown",
   "metadata": {},
   "source": [
    "#### Problem 4(a)"
   ]
  },
  {
   "cell_type": "code",
   "execution_count": 2,
   "metadata": {},
   "outputs": [
    {
     "name": "stdout",
     "output_type": "stream",
     "text": [
      "Status: ok\n",
      "Termination Condition: optimal\n",
      "Objective function value:  9872.029527632445\n",
      "\n",
      "Day 1:\n",
      "Game 1: Crew 1\n",
      "Game 2: Crew 2\n",
      "Game 3: Crew 3\n",
      "Game 4: Crew 4\n",
      "Game 5: Crew 5\n",
      "\n",
      "Day 2:\n",
      "Game 1: Crew 2\n",
      "Game 2: Crew 5\n",
      "Game 3: Crew 4\n",
      "Game 4: Crew 3\n",
      "Game 5: Crew 1\n",
      "\n",
      "Day 3:\n",
      "Game 1: Crew 5\n",
      "Game 2: Crew 3\n",
      "Game 3: Crew 4\n",
      "Game 4: Crew 1\n",
      "Game 5: Crew 2\n",
      "\n",
      "Day 4:\n",
      "Game 1: Crew 4\n",
      "Game 2: Crew 1\n",
      "Game 3: Crew 5\n",
      "Game 4: Crew 2\n",
      "Game 5: Crew 3\n",
      "\n",
      "Day 5:\n",
      "Game 1: Crew 5\n",
      "Game 2: Crew 1\n",
      "Game 3: Crew 3\n",
      "Game 4: Crew 2\n",
      "Game 5: Crew 4\n",
      "\n",
      "Day 6:\n",
      "Game 1: Crew 2\n",
      "Game 2: Crew 4\n",
      "Game 3: Crew 5\n",
      "Game 4: Crew 3\n",
      "Game 5: Crew 1\n",
      "Total Distance: 9872.029528\n",
      "Total Cost: 34552.103347\n"
     ]
    }
   ],
   "source": [
    "import numpy as np\n",
    "import pyomo.environ as pe\n",
    "import pandas as pd\n",
    "\n",
    "# Get Data from Excel file\n",
    "xl_filename = 'Assignment6_data.xlsx'\n",
    "schedule_input = pd.read_excel(xl_filename,sheet_name = 'Schedule')\n",
    "distances_input = pd.read_excel(xl_filename,sheet_name = 'Distances')\n",
    "\n",
    "# Get list of teams, with position in this list corresponding to their index\n",
    "teams = distances_input.columns.tolist()\n",
    "\n",
    "### Inputs\n",
    "## Number of game dates\n",
    "D = 6\n",
    "## Number of games each date\n",
    "G = 5\n",
    "## Number of teams\n",
    "T = 10\n",
    "\n",
    "## Create and fill distance matrix\n",
    "distances = np.zeros((G,G,D))\n",
    "# Loop through dates\n",
    "for d in range(D-1):\n",
    "    # Day d and day d+1 games\n",
    "    d_games = schedule_input.loc[schedule_input.Day == d+1,:]\n",
    "    d1_games = schedule_input.loc[schedule_input.Day == d+2,:]\n",
    "    \n",
    "    # Loop through day d games\n",
    "    for i in range(G):\n",
    "        # Get home team of game i on day d\n",
    "        d_game_home = d_games.loc[d_games.Game == i+1,'Home'].values[0]\n",
    "        \n",
    "        # Loop through day d+1 games\n",
    "        for j in range(G):\n",
    "            # Get home team of game j on day d+1\n",
    "            d1_game_home = d1_games.loc[d1_games.Game == j+1,'Home'].values[0]\n",
    "            # Look up distance and add it to matrix\n",
    "            distances[d,i,j] = distances_input.loc[d_game_home,d1_game_home]\n",
    "\n",
    "## Create and fill home and visitor indicator matrices\n",
    "home = np.zeros((G,T,D))\n",
    "visitor = np.zeros((G,T,D))\n",
    "# Loop through dates\n",
    "for d in range(D):\n",
    "    # Day d games\n",
    "    d_games = schedule_input.loc[schedule_input.Day == d+1,:]\n",
    "    # Loop through games\n",
    "    for i in range(G):\n",
    "        # Get home and visitor teams of game i on day d\n",
    "        d_game_home = d_games.loc[d_games.Game == i+1,'Home'].values[0]\n",
    "        d_game_visitor = d_games.loc[d_games.Game == i+1,'Visitor'].values[0]\n",
    "        \n",
    "        # Update each matrix using index of each team\n",
    "        home[i,teams.index(d_game_home),d] = 1\n",
    "        visitor[i,teams.index(d_game_visitor),d] = 1\n",
    "        \n",
    "### Create Pyomo model\n",
    "model = pe.ConcreteModel()\n",
    "\n",
    "### Initialize sets\n",
    "model.Dates = pe.Set(initialize = range(D))\n",
    "model.Games = pe.Set(initialize = range(G))\n",
    "model.Teams = pe.Set(initialize = range(T))\n",
    "\n",
    "### Define variables used in the problem\n",
    "# Decision variables: number of products to create\n",
    "model.a = pe.Var(model.Games,model.Games,model.Dates,domain = pe.NonNegativeIntegers) #NonNegativeReals\n",
    "\n",
    "### Objective function\n",
    "model.obj = pe.Objective(expr = \n",
    "    sum(sum(sum(sum(\n",
    "    distances[i,j,d] * model.a[c,i,d]* model.a[c,j,d+1] for d in model.Dates if d < D-1)\n",
    "    for j in model.Games) for i in model.Games) for c in model.Games),\n",
    "    sense = pe.minimize)\n",
    "\n",
    "### Constraints       \n",
    "# Each game needs a crew: completeness of schedule\n",
    "model.Completeness = pe.ConstraintList()\n",
    "for d in model.Dates:\n",
    "    for i in model.Games:\n",
    "        model.Completeness.add(sum(model.a[c,i,d] for c in model.Games) >= 1)\n",
    "\n",
    "# Each crew cannot only work on one game per date\n",
    "model.SingleGame = pe.ConstraintList()\n",
    "for d in model.Dates:\n",
    "    for c in model.Games:\n",
    "        model.SingleGame.add(sum(model.a[c,i,d] for i in model.Games) <= 1)\n",
    "\n",
    "# A crew cannot officiate for 2 games in a row involving any of the same team\n",
    "model.Consecutive = pe.ConstraintList()\n",
    "for t in model.Teams:\n",
    "    for c in model.Games:\n",
    "        for d in model.Dates:\n",
    "            if d < D-1:\n",
    "                model.Consecutive.add(sum((home[i,t,d]+visitor[i,t,d])*model.a[c,i,d] +\n",
    "                    (home[i,t,d+1]+visitor[i,t,d+1])*model.a[c,i,d+1] for i in model.Games) <= 1)\n",
    "\n",
    "# Assignments are defined for day 1\n",
    "model.Initiation = pe.ConstraintList()\n",
    "for c in model.Games: \n",
    "    model.Initiation.add(model.a[c,c,0] == 1)\n",
    "            \n",
    "### Solve problem\n",
    "solver = pe.SolverFactory('gurobi') # cplex or gurobi\n",
    "results = solver.solve(model, tee = False, keepfiles = False)\n",
    "\n",
    "### Print solver status and results \n",
    "print(\"Status:\", results.solver.status)\n",
    "print(\"Termination Condition:\", results.solver.termination_condition)\n",
    "print(\"Objective function value: \", model.obj())\n",
    "\n",
    "for d in range(D):\n",
    "    print('\\nDay %d:'%(d+1))\n",
    "    for i in range(G):\n",
    "        for c in range(G):\n",
    "            if model.a[c,i,d].value > 0:\n",
    "                print('Game %d: Crew %d'%(i+1,c+1))\n",
    "\n",
    "total_cost = model.obj() * 0.5 * 7\n",
    "print('Total Distance: %f'%(model.obj()))\n",
    "print('Total Cost: %f'%(total_cost))"
   ]
  },
  {
   "cell_type": "markdown",
   "metadata": {},
   "source": [
    "#### Problem 4(b)"
   ]
  },
  {
   "cell_type": "code",
   "execution_count": 3,
   "metadata": {},
   "outputs": [
    {
     "name": "stdout",
     "output_type": "stream",
     "text": [
      "Status: ok\n",
      "Termination Condition: optimal\n",
      "Objective function value:  8366.791976835224\n",
      "\n",
      "Day 1:\n",
      "Game 1: Crew 1\n",
      "Game 2: Crew 2\n",
      "Game 3: Crew 3\n",
      "Game 4: Crew 4\n",
      "Game 5: Crew 5\n",
      "\n",
      "Day 2:\n",
      "Game 1: Crew 3\n",
      "Game 2: Crew 5\n",
      "Game 3: Crew 4\n",
      "Game 4: Crew 2\n",
      "Game 5: Crew 1\n",
      "\n",
      "Day 3:\n",
      "Game 1: Crew 2\n",
      "Game 2: Crew 5\n",
      "Game 3: Crew 1\n",
      "Game 4: Crew 4\n",
      "Game 5: Crew 3\n",
      "\n",
      "Day 4:\n",
      "Game 1: Crew 1\n",
      "Game 2: Crew 4\n",
      "Game 3: Crew 5\n",
      "Game 4: Crew 3\n",
      "Game 5: Crew 2\n",
      "\n",
      "Day 5:\n",
      "Game 1: Crew 5\n",
      "Game 2: Crew 4\n",
      "Game 3: Crew 2\n",
      "Game 4: Crew 1\n",
      "Game 5: Crew 3\n",
      "\n",
      "Day 6:\n",
      "Game 1: Crew 1\n",
      "Game 2: Crew 3\n",
      "Game 3: Crew 5\n",
      "Game 4: Crew 2\n",
      "Game 5: Crew 4\n",
      "Total Distance: 8366.791977\n",
      "Total Cost: 29283.771919\n"
     ]
    }
   ],
   "source": [
    "# -*- coding: utf-8 -*-\n",
    "\"\"\"\n",
    "@author: Remy\n",
    "Problem 4 question b)\n",
    "\"\"\"\n",
    "\n",
    "import pyomo.environ as pe\n",
    "import numpy as np\n",
    "import pandas as pd\n",
    "np.set_printoptions(linewidth=130)\n",
    "\n",
    "# Get Data from Excel file\n",
    "xl_filename = 'Assignment6_data.xlsx'\n",
    "schedule_input = pd.read_excel(xl_filename,sheet_name = 'Schedule')\n",
    "distances_input = pd.read_excel(xl_filename,sheet_name = 'Distances')\n",
    "\n",
    "# Get list of teams, with position in this list corresponding to their index\n",
    "teams = distances_input.columns.tolist()\n",
    "\n",
    "### Inputs\n",
    "## Number of game dates\n",
    "D = 6\n",
    "## Number of games each date\n",
    "G = 5\n",
    "## Number of teams\n",
    "T = 10\n",
    "\n",
    "## Create and fill distance matrix\n",
    "distances = np.zeros((G,G,D))\n",
    "# Loop through dates\n",
    "for d in range(D-1):\n",
    "    # Day d and day d+1 games\n",
    "    d_games = schedule_input.loc[schedule_input.Day == d+1,:]\n",
    "    d1_games = schedule_input.loc[schedule_input.Day == d+2,:]\n",
    "    \n",
    "    # Loop through day d games\n",
    "    for i in range(G):\n",
    "        # Get home team of game i on day d\n",
    "        d_game_home = d_games.loc[d_games.Game == i+1,'Home'].values[0]\n",
    "        \n",
    "        # Loop through day d+1 games\n",
    "        for j in range(G):\n",
    "            # Get home team of game j on day d+1\n",
    "            d1_game_home = d1_games.loc[d1_games.Game == j+1,'Home'].values[0]\n",
    "            # Look up distance and add it to matrix\n",
    "            distances[d,i,j] = distances_input.loc[d_game_home,d1_game_home]\n",
    "\n",
    "## Create and fill home and visitor indicator matrices\n",
    "home = np.zeros((G,T,D))\n",
    "visitor = np.zeros((G,T,D))\n",
    "# Loop through dates\n",
    "for d in range(D):\n",
    "    # Day d games\n",
    "    d_games = schedule_input.loc[schedule_input.Day == d+1,:]\n",
    "    # Loop through games\n",
    "    for i in range(G):\n",
    "        # Get home and visitor teams of game i on day d\n",
    "        d_game_home = d_games.loc[d_games.Game == i+1,'Home'].values[0]\n",
    "        d_game_visitor = d_games.loc[d_games.Game == i+1,'Visitor'].values[0]\n",
    "        \n",
    "        # Update each matrix using index of each team\n",
    "        home[i,teams.index(d_game_home),d] = 1\n",
    "        visitor[i,teams.index(d_game_visitor),d] = 1\n",
    "\n",
    "### Create Pyomo model\n",
    "model = pe.ConcreteModel()\n",
    "\n",
    "### Initialize sets\n",
    "model.Dates = pe.Set(initialize = range(D))\n",
    "model.Games = pe.Set(initialize = range(G))\n",
    "model.Teams = pe.Set(initialize = range(T))\n",
    "\n",
    "### Define variables used in the problem\n",
    "# Decision variables: number of products to create\n",
    "model.a = pe.Var(model.Games,model.Games,model.Dates,domain = pe.NonNegativeIntegers) #NonNegativeReals\n",
    "\n",
    "### Objective function\n",
    "model.obj = pe.Objective(expr = \n",
    "    sum(sum(sum(sum(\n",
    "    distances[i,j,d] * model.a[c,i,d]* model.a[c,j,d+1] for d in model.Dates if d < D-1)\n",
    "    for j in model.Games) for i in model.Games) for c in model.Games),\n",
    "    sense = pe.minimize)\n",
    "\n",
    "### Constraints       \n",
    "# Each game needs a crew: completeness of schedule\n",
    "model.Completeness = pe.ConstraintList()\n",
    "for d in model.Dates:\n",
    "    for i in model.Games:\n",
    "        model.Completeness.add(sum(model.a[c,i,d] for c in model.Games) >= 1)\n",
    "\n",
    "# Each crew cannot only work on one game per date\n",
    "model.SingleGame = pe.ConstraintList()\n",
    "for d in model.Dates:\n",
    "    for c in model.Games:\n",
    "        model.SingleGame.add(sum(model.a[c,i,d] for i in model.Games) <= 1)\n",
    "\n",
    "# A crew cannot officiate for 2 games in a row involving any of the same team\n",
    "model.Consecutive = pe.ConstraintList()\n",
    "for t in model.Teams:\n",
    "    for c in model.Games:\n",
    "        for d in model.Dates:\n",
    "            if d < D-1:\n",
    "                if sum(home[:,t,d])+sum(home[:,t,d+1]) > 0.0:\n",
    "                    model.Consecutive.add(sum(home[i,t,d]*model.a[c,i,d] +\n",
    "                        home[i,t,d+1]*model.a[c,i,d+1] for i in model.Games) <= 1)\n",
    "\n",
    "# Assignments are defined for day 1\n",
    "model.Initiation = pe.ConstraintList()\n",
    "for c in model.Games: \n",
    "    model.Initiation.add(model.a[c,c,0] == 1)\n",
    "            \n",
    "### Solve problem\n",
    "solver = pe.SolverFactory('gurobi') # cplex or gurobi\n",
    "results = solver.solve(model, tee = False, keepfiles = False)\n",
    "\n",
    "### Print solver status and results \n",
    "print(\"Status:\", results.solver.status)\n",
    "print(\"Termination Condition:\", results.solver.termination_condition)\n",
    "print(\"Objective function value: \", model.obj())\n",
    "\n",
    "for d in range(D):\n",
    "    print('\\nDay %d:'%(d+1))\n",
    "    for i in range(G):\n",
    "        for c in range(G):\n",
    "            if model.a[c,i,d].value > 0:\n",
    "                print('Game %d: Crew %d'%(i+1,c+1))\n",
    "\n",
    "total_cost = model.obj() * 0.5 * 7\n",
    "print('Total Distance: %f'%(model.obj()))\n",
    "print('Total Cost: %f'%(total_cost))"
   ]
  }
 ],
 "metadata": {
  "kernelspec": {
   "display_name": "Python 3",
   "language": "python",
   "name": "python3"
  },
  "language_info": {
   "codemirror_mode": {
    "name": "ipython",
    "version": 3
   },
   "file_extension": ".py",
   "mimetype": "text/x-python",
   "name": "python",
   "nbconvert_exporter": "python",
   "pygments_lexer": "ipython3",
   "version": "3.6.6"
  }
 },
 "nbformat": 4,
 "nbformat_minor": 2
}
